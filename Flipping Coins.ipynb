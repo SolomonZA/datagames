{
 "cells": [
  {
   "cell_type": "markdown",
   "metadata": {},
   "source": [
    "# Flipping Coins and Rolling Dice\n",
    "---\n",
    "\n",
    "#### Terminology\n",
    "\n",
    "**Random Variable:** A variable whose values are determined by chance\n",
    "\n",
    "**Probability distribution:** consists of the values of a random variable and it's associated probabilities\n",
    "\n",
    "**Discrete Probability Distribution:**\n",
    "\n",
    "When you flip a fair coin, it has **two** possible outcomes each with the same **probability**\n",
    "\n",
    "> Heads: Probability 0.5\n",
    "\n",
    "> Tails: Probability 0.5\n",
    "\n",
    "\n"
   ]
  },
  {
   "cell_type": "code",
   "execution_count": null,
   "metadata": {
    "collapsed": true
   },
   "outputs": [],
   "source": []
  }
 ],
 "metadata": {
  "kernelspec": {
   "display_name": "Python 2",
   "language": "python",
   "name": "python2"
  },
  "language_info": {
   "codemirror_mode": {
    "name": "ipython",
    "version": 2
   },
   "file_extension": ".py",
   "mimetype": "text/x-python",
   "name": "python",
   "nbconvert_exporter": "python",
   "pygments_lexer": "ipython2",
   "version": "2.7.13"
  }
 },
 "nbformat": 4,
 "nbformat_minor": 2
}
